{
 "cells": [
  {
   "cell_type": "code",
   "execution_count": 1,
   "id": "3418f8de-49dc-416e-ae83-e6c95a438297",
   "metadata": {},
   "outputs": [],
   "source": [
    "from agents import Agent\n",
    "import os, glob, re\n",
    "import numpy as np\n",
    "import pandas as pd"
   ]
  },
  {
   "cell_type": "code",
   "execution_count": 2,
   "id": "cf2728c0-e0f4-4b4b-ab17-c508f22c4be4",
   "metadata": {},
   "outputs": [],
   "source": [
    "init_habit_strength = np.array([[0.0, 0.57],\n",
    "                                [0.0, 0.57],\n",
    "                                [0.0, 0.57],\n",
    "                                [0.0, 0.57],\n",
    "                                [0.0, 0.57],\n",
    "                                [0.57, 0.0],  \n",
    "                                [0.57, 0.0]])\n",
    "    \n",
    "csv_files = glob.glob(os.path.join('//global/scratch/users/norahluo/trajectory', '*.csv'))\n",
    "demo = pd.read_csv('//global/scratch/users/norahluo/demo.csv')\n",
    "\n",
    "def initialize():\n",
    "    agents = []\n",
    "    for f in csv_files:\n",
    "        df = pd.read_csv(f, parse_dates = ['date'], usecols = lambda x: 'Unnamed' not in x)\n",
    "        df = df.loc[(df.date >= '2020-01-06')]\n",
    "        df.reset_index(drop = True, inplace = True)\n",
    "        demo_ = demo[demo.panelist_id == re.split(r'_|\\.',f)[1]]        \n",
    "        df['dfrw'] = demo_['dfrw_cap_mean'].values[0]           \n",
    "        df['income'] = demo_['hh_income_mid'].values[0]\n",
    "        df['college'] = 1 if demo_['edu_level'].values[0] in ['University/College', 'Postgraduate Education'] else 0\n",
    "        constraint = []\n",
    "        agent = Agent(init_habit_strength, df, param_constraint = constraint)\n",
    "        agents.append(agent)\n",
    "    return agents"
   ]
  },
  {
   "cell_type": "code",
   "execution_count": 3,
   "id": "aef5d3f6-6981-4dce-b6b0-b5a917502ff6",
   "metadata": {},
   "outputs": [],
   "source": [
    "def losses(params):\n",
    "    losses = 0\n",
    "    agents = initialize()\n",
    "    for agent in agents:\n",
    "        agent.params = params\n",
    "        loss, _, _, _ = agent.compute_loss()\n",
    "        losses += loss\n",
    "    return losses"
   ]
  },
  {
   "cell_type": "code",
   "execution_count": 4,
   "id": "2468887a-4d76-43d1-b7f8-cf86dc325caf",
   "metadata": {},
   "outputs": [],
   "source": [
    "init_params = dict(zip(['HDP', 'HGP', 'hs', 'B', 'wh', 'w0'], [np.log(1/0.128-1), 0.3, 3.531/10, np.array([0.904, -0.009*10, -0.046, -0.455, -0.017, 0.071, -0.581, -1.394]), 20.378, 1.014]))\n",
    "losses = losses(init_params)"
   ]
  },
  {
   "cell_type": "code",
   "execution_count": 96,
   "id": "48020c24-4e7e-4181-96ff-8870f1007c6c",
   "metadata": {},
   "outputs": [],
   "source": [
    "init_params['w0'] -= h"
   ]
  },
  {
   "cell_type": "code",
   "execution_count": 97,
   "id": "74226123-9306-410a-8b39-43b8d7f6e631",
   "metadata": {},
   "outputs": [
    {
     "data": {
      "text/plain": [
       "{'HDP': 1.9187591599893623,\n",
       " 'HGP': 0.3,\n",
       " 'hs': 0.3531,\n",
       " 'B': array([ 0.904, -0.09 , -0.046, -0.455, -0.017,  0.071, -0.581, -1.394]),\n",
       " 'wh': 20.378,\n",
       " 'w0': 1.01399}"
      ]
     },
     "execution_count": 97,
     "metadata": {},
     "output_type": "execute_result"
    }
   ],
   "source": [
    "init_params"
   ]
  },
  {
   "cell_type": "code",
   "execution_count": 137,
   "id": "9dca5c3b-0786-4739-acfc-159b18dfa235",
   "metadata": {
    "scrolled": true
   },
   "outputs": [
    {
     "data": {
      "text/plain": [
       "419614.17300626636"
      ]
     },
     "execution_count": 137,
     "metadata": {},
     "output_type": "execute_result"
    }
   ],
   "source": [
    "\n",
    "h = 1e-4\n",
    "# init_params = dict(zip(['HDP', 'HGP', 'hs', 'B', 'wh', 'w0'], [np.log(1/0.128-1), 0.3, 3.531/10, np.array([0.904, -0.009*10, -0.046, -0.455, -0.017, 0.071, -0.581, -1.394]), 20.378, 1.014]))\n",
    "# losses_init = losses(init_params)\n",
    "\n",
    "params_plus = dict(zip(['HDP', 'HGP', 'hs', 'B', 'wh', 'w0'], [np.log(1/(0.128+h)-1), 0.3, 3.531/10, np.array([0.904, -0.009*10, -0.046, -0.455, -0.017, 0.071, -0.581, -1.394]), 20.378, 1.014]))\n",
    "losses_plus = losses(params_plus)\n",
    "\n",
    "params_minus = dict(zip(['HDP', 'HGP', 'hs', 'B', 'wh', 'w0'], [np.log(1/(0.128-h)-1), 0.3, 3.531/10, np.array([0.904, -0.009*10, -0.046, -0.455, -0.017, 0.071, -0.581, -1.394]), 20.378, 1.014]))\n",
    "losses_minus = losses(params_minus)\n",
    "\n",
    "(losses_plus - 2*254500.64195170635 + losses_minus) / (h**2)"
   ]
  },
  {
   "cell_type": "code",
   "execution_count": 133,
   "id": "604e902c-fa4f-445d-8485-7b709e5b990f",
   "metadata": {},
   "outputs": [
    {
     "data": {
      "text/plain": [
       "313924.1016469895"
      ]
     },
     "execution_count": 133,
     "metadata": {},
     "output_type": "execute_result"
    }
   ],
   "source": [
    "%time\n",
    "numerical_second_derivative(losses, 'HDP', 1e-5)"
   ]
  },
  {
   "cell_type": "code",
   "execution_count": 132,
   "id": "92b3caa8-1b81-4b7d-9d6f-ebfe90894d7a",
   "metadata": {},
   "outputs": [],
   "source": [
    "def numerical_second_derivative(f, x, h):\n",
    "    params = dict(zip(['HDP', 'hs', 'b0', 'b1', 'b2', 'b3', 'b4', 'b5', 'b6', 'b7', 'wh', 'w0'], [0.128, 3.531, 0.904, -0.009, -0.046, -0.455, -0.017, 0.071, -0.581, -1.394, 20.378, 1.014]))\n",
    "    \n",
    "    # init_params = dict(zip(['HDP', 'HGP', 'hs', 'B', 'wh', 'w0'], [np.log(1/params['HDP']-1), 0.3, params['hs']/10, np.array([params['b'+str(i)]*10 if i == 1 else params['b'+str(i)] for i in range(8)]), params['wh'], params['w0']]))\n",
    "    # losses_init = f(init_params)\n",
    "\n",
    "    params_plus = params.copy()\n",
    "    params_plus[x] += h\n",
    "    params_plus_ = dict(zip(['HDP', 'HGP', 'hs', 'B', 'wh', 'w0'], [np.log(1/params_plus['HDP']-1), 0.3, params_plus['hs']/10, np.array([params_plus['b'+str(i)]*10 if i == 1 else params_plus['b'+str(i)] for i in range(8)]), params_plus['wh'], params_plus['w0']]))\n",
    "    losses_plus = f(params_plus_)\n",
    "\n",
    "    params_minus = params.copy()\n",
    "    params_minus[x] -=h\n",
    "    params_minus_ = dict(zip(['HDP', 'HGP', 'hs', 'B', 'wh', 'w0'], [np.log(1/params_minus['HDP']-1), 0.3, params_minus['hs']/10, np.array([params_minus['b'+str(i)]*10 if i == 1 else params_minus['b'+str(i)] for i in range(8)]), params_minus['wh'], params_minus['w0']]))\n",
    "    losses_minus = f(params_minus_)\n",
    "\n",
    "    fish = (losses_plus - 2*254500.64195170635 + losses_minus) / (h**2)\n",
    "\n",
    "    return fish"
   ]
  },
  {
   "cell_type": "code",
   "execution_count": 116,
   "id": "44b49a1d-6428-48d4-b81b-706d56001baf",
   "metadata": {},
   "outputs": [],
   "source": [
    "def numerical_mixed_second_derivative(f, x1, x2, h):\n",
    "\n",
    "    params = dict(zip(['HDP', 'hs', 'b0', 'b1', 'b2', 'b3', 'b4', 'b5', 'b6', 'b7', 'wh', 'w0'], [0.128, 3.531, 0.904, -0.009, -0.046, -0.455, -0.017, 0.071, -0.581, -1.394, 20.378, 1.014]))\n",
    "    \n",
    "    params_plus = params.copy()\n",
    "    params_plus[x1] += h\n",
    "    params_plus[x2] += h\n",
    "    params_plus_ = dict(zip(['HDP', 'HGP', 'hs', 'B', 'wh', 'w0'], [np.log(1/params_plus['HDP']-1), 0.3, params_plus['hs']/10, np.array([params_plus['b'+str(i)]*10 if i == 1 else params_plus['b'+str(i)] for i in range(8)]), params_plus['wh'], params_plus['w0']]))\n",
    "    losses_plus = f(params_plus_)\n",
    "\n",
    "    params_minus = params.copy()\n",
    "    params_minus[x1] -= h\n",
    "    params_minus[x2] -= h\n",
    "    params_minus_ = dict(zip(['HDP', 'HGP', 'hs', 'B', 'wh', 'w0'], [np.log(1/params_minus['HDP']-1), 0.3, params_minus['hs']/10, np.array([params_minus['b'+str(i)]*10 if i == 1 else params_minus['b'+str(i)] for i in range(8)]), params_minus['wh'], params_minus['w0']]))\n",
    "    losses_minus = f(params_minus_)\n",
    "\n",
    "    params_mix1 = params.copy()\n",
    "    params_mix1[x1] += h\n",
    "    params_mix1[x2] -= h\n",
    "    params_mix1_ = dict(zip(['HDP', 'HGP', 'hs', 'B', 'wh', 'w0'], [np.log(1/params_mix1['HDP']-1), 0.3, params_mix1['hs']/10, np.array([params_mix1['b'+str(i)]*10 if i == 1 else params_mix1['b'+str(i)] for i in range(8)]), params_mix1['wh'], params_mix1['w0']]))\n",
    "    losses_mix1 = f(params_mix1_)\n",
    "\n",
    "    params_mix2 = params.copy()\n",
    "    params_mix2[x1] -= h\n",
    "    params_mix2[x2] += h\n",
    "    params_mix2_ = dict(zip(['HDP', 'HGP', 'hs', 'B', 'wh', 'w0'], [np.log(1/params_mix2['HDP']-1), 0.3, params_mix2['hs']/10, np.array([params_mix2['b'+str(i)]*10 if i == 1 else params_mix2['b'+str(i)] for i in range(8)]), params_mix2['wh'], params_mix2['w0']]))\n",
    "    losses_mix2 = f(params_mix2_)\n",
    "\n",
    "    fish = (losses_plus - losses_mix1 - losses_mix2 + losses_minus) / (h**4)\n",
    "\n",
    "    return fish"
   ]
  },
  {
   "cell_type": "code",
   "execution_count": 110,
   "id": "b63c9027-9654-4222-80db-07aa9512cd51",
   "metadata": {},
   "outputs": [
    {
     "data": {
      "text/plain": [
       "array([[ 0.80555556, -0.47222222,  0.22222222],\n",
       "       [-0.47222222,  0.13888889,  0.11111111],\n",
       "       [ 0.22222222,  0.11111111, -0.11111111]])"
      ]
     },
     "execution_count": 110,
     "metadata": {},
     "output_type": "execute_result"
    }
   ],
   "source": [
    "np.linalg.inv(a)"
   ]
  },
  {
   "cell_type": "code",
   "execution_count": 120,
   "id": "efd93412-cc61-479c-8681-32b77adc56bd",
   "metadata": {
    "scrolled": true
   },
   "outputs": [
    {
     "name": "stdout",
     "output_type": "stream",
     "text": [
      "HDP\n",
      "b0\n",
      "b1\n",
      "b2\n",
      "b3\n",
      "b4\n",
      "b5\n",
      "b6\n",
      "b7\n",
      "wh\n",
      "w0\n",
      "hs\n",
      "b0\n",
      "b1\n",
      "b2\n",
      "b3\n",
      "b4\n",
      "b5\n",
      "b6\n",
      "b7\n",
      "wh\n",
      "w0\n",
      "hs\n",
      "b1\n",
      "b2\n",
      "b3\n",
      "b4\n",
      "b5\n",
      "b6\n",
      "b7\n",
      "wh\n",
      "w0\n",
      "hs\n",
      "b2\n",
      "b3\n",
      "b4\n",
      "b5\n",
      "b6\n",
      "b7\n",
      "wh\n",
      "w0\n",
      "hs\n",
      "b3\n",
      "b4\n",
      "b5\n",
      "b6\n",
      "b7\n",
      "wh\n",
      "w0\n",
      "hs\n",
      "b4\n",
      "b5\n",
      "b6\n",
      "b7\n",
      "wh\n",
      "w0\n",
      "hs\n",
      "b5\n",
      "b6\n",
      "b7\n",
      "wh\n",
      "w0\n",
      "hs\n",
      "b6\n",
      "b7\n",
      "wh\n",
      "w0\n",
      "hs\n",
      "b7\n",
      "wh\n",
      "w0\n",
      "hs\n",
      "wh\n",
      "w0\n",
      "hs\n",
      "w0\n",
      "hs\n",
      "hs\n"
     ]
    }
   ],
   "source": [
    "cov = np.zeros((12,12))\n",
    "vars = ['HDP', 'b0', 'b1', 'b2', 'b3', 'b4', 'b5', 'b6', 'b7', 'wh', 'w0','hs']\n",
    "for i in range(12):\n",
    "    print(vars[i])\n",
    "    cov[i,i] = numerical_second_derivative(losses, vars[i], h)\n",
    "    for j in range(i+1, 12):\n",
    "        print(vars[j])\n",
    "        cov_ = numerical_mixed_second_derivative(losses, vars[i], vars[j], h)\n",
    "        cov[i,j] = cov_\n",
    "        cov[j,i] = cov_"
   ]
  },
  {
   "cell_type": "code",
   "execution_count": 141,
   "id": "2ff7c16f-ecce-4e9d-bf0c-c3353a4c44eb",
   "metadata": {},
   "outputs": [
    {
     "data": {
      "text/plain": [
       "array([[ 1.19201622e-16, -7.43117744e-17, -4.43476610e-18,\n",
       "        -6.84554432e-18, -4.72388855e-15,  4.06644479e-15,\n",
       "        -1.34956900e-15,  3.08574533e-15, -1.28850673e-14,\n",
       "         1.35488498e-14,  8.30981239e-16, -9.31070467e-16],\n",
       "       [-7.43117744e-17, -2.73431609e-15,  5.67181680e-17,\n",
       "         9.39444776e-17,  3.61198572e-15, -3.92203294e-15,\n",
       "         3.20286083e-15,  3.70768445e-15, -6.31772105e-16,\n",
       "        -4.50613003e-15, -5.96260363e-16,  1.23433392e-15],\n",
       "       [-4.43476610e-18,  5.67181680e-17, -1.05105696e-17,\n",
       "         5.08841005e-18,  2.73774735e-16, -3.45160365e-17,\n",
       "         7.45597297e-17,  2.04706646e-16,  4.06025610e-16,\n",
       "        -6.07008222e-16, -5.92282044e-17,  3.02649559e-17],\n",
       "       [-6.84554432e-18,  9.39444776e-17,  5.08841005e-18,\n",
       "        -2.33469695e-17,  2.94080839e-16, -3.54523702e-16,\n",
       "         3.00331815e-16,  3.44214799e-16, -3.76012190e-17,\n",
       "        -3.76983938e-16, -4.63898451e-17,  1.12673901e-16],\n",
       "       [-4.72388855e-15,  3.61198572e-15,  2.73774735e-16,\n",
       "         2.94080839e-16,  8.33091217e-13,  1.34020907e-13,\n",
       "        -2.01183643e-13,  9.03348565e-14, -5.83136732e-13,\n",
       "        -6.88421571e-13, -1.10504508e-13, -4.06614091e-14],\n",
       "       [ 4.06644479e-15, -3.92203294e-15, -3.45160365e-17,\n",
       "        -3.54523702e-16,  1.34020907e-13, -1.42860923e-13,\n",
       "         4.05842862e-14,  1.03286091e-14,  1.98196545e-13,\n",
       "        -2.13382784e-13, -7.98317861e-14, -2.95357725e-14],\n",
       "       [-1.34956900e-15,  3.20286083e-15,  7.45597297e-17,\n",
       "         3.00331815e-16, -2.01183643e-13,  4.05842862e-14,\n",
       "         8.16277045e-15, -1.20274668e-14, -1.46443763e-14,\n",
       "         2.19374615e-13,  5.76319756e-14,  2.40977716e-14],\n",
       "       [ 3.08574533e-15,  3.70768445e-15,  2.04706646e-16,\n",
       "         3.44214799e-16,  9.03348565e-14,  1.03286091e-14,\n",
       "        -1.20274668e-14, -8.85478223e-15, -2.47677022e-13,\n",
       "         3.33986769e-13,  2.50945590e-14, -4.35179188e-15],\n",
       "       [-1.28850673e-14, -6.31772105e-16,  4.06025610e-16,\n",
       "        -3.76012190e-17, -5.83136732e-13,  1.98196545e-13,\n",
       "        -1.46443763e-14, -2.47677022e-13,  1.38408831e-12,\n",
       "        -1.59727718e-12, -9.98579804e-14, -4.86145027e-14],\n",
       "       [ 1.35488498e-14, -4.50613003e-15, -6.07008222e-16,\n",
       "        -3.76983938e-16, -6.88421571e-13, -2.13382784e-13,\n",
       "         2.19374615e-13,  3.33986769e-13, -1.59727718e-12,\n",
       "         1.49241403e-12,  8.71314701e-14,  3.76978142e-13],\n",
       "       [ 8.30981239e-16, -5.96260363e-16, -5.92282044e-17,\n",
       "        -4.63898451e-17, -1.10504508e-13, -7.98317861e-14,\n",
       "         5.76319756e-14,  2.50945590e-14, -9.98579804e-14,\n",
       "         8.71314701e-14,  5.15539846e-15,  1.74265513e-14],\n",
       "       [-9.31070467e-16,  1.23433392e-15,  3.02649559e-17,\n",
       "         1.12673901e-16, -4.06614091e-14, -2.95357725e-14,\n",
       "         2.40977716e-14, -4.35179188e-15, -4.86145027e-14,\n",
       "         3.76978142e-13,  1.74265513e-14,  2.02868369e-14]])"
      ]
     },
     "execution_count": 141,
     "metadata": {},
     "output_type": "execute_result"
    }
   ],
   "source": [
    "np.linalg.inv(cov)"
   ]
  },
  {
   "cell_type": "code",
   "execution_count": null,
   "id": "df1efa46-c8e0-46e9-be09-0ef5c109f847",
   "metadata": {},
   "outputs": [],
   "source": []
  }
 ],
 "metadata": {
  "kernelspec": {
   "display_name": "Python 3 (ipykernel)",
   "language": "python",
   "name": "python3"
  },
  "language_info": {
   "codemirror_mode": {
    "name": "ipython",
    "version": 3
   },
   "file_extension": ".py",
   "mimetype": "text/x-python",
   "name": "python",
   "nbconvert_exporter": "python",
   "pygments_lexer": "ipython3",
   "version": "3.11.7"
  }
 },
 "nbformat": 4,
 "nbformat_minor": 5
}
